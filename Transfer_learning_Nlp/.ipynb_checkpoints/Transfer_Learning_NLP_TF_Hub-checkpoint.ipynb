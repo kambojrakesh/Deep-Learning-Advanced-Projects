{
 "cells": [
  {
   "cell_type": "markdown",
   "metadata": {
    "colab_type": "text",
    "id": "view-in-github"
   },
   "source": [
    "<a href=\"https://colab.research.google.com/github/kambojrakesh/Deep-Learning-Advanced-Projects/blob/main/Transfer_Learning_NLP_TF_Hub.ipynb\" target=\"_parent\"><img src=\"https://colab.research.google.com/assets/colab-badge.svg\" alt=\"Open In Colab\"/></a>"
   ]
  },
  {
   "cell_type": "markdown",
   "metadata": {
    "id": "YOPcjnDDc5c7"
   },
   "source": [
    "<h2 align=left> Transfer Learning for NLP with TensorFlow Hub</h2>\n",
    "\n",
    "---"
   ]
  },
  {
   "cell_type": "markdown",
   "metadata": {
    "id": "bgBRL1nR_jdt"
   },
   "source": [
    "This is a starter notebook for the guided project [Transfer Learning for NLP with TensorFlow Hub](https://www.coursera.org/projects/transfer-learning-nlp-tensorflow-hub/)\n",
    "\n",
    "A complete version of this notebook is available in the course resources.\n",
    "\n",
    "---"
   ]
  },
  {
   "cell_type": "markdown",
   "metadata": {
    "id": "ak95VdGNn3lJ"
   },
   "source": [
    "### Overview\n",
    "\n",
    "[TensorFlow Hub](https://tfhub.dev/) is a repository of pre-trained TensorFlow models.\n",
    "\n",
    "In this project, you will use pre-trained models from TensorFlow Hub with [`tf.keras`](https://www.tensorflow.org/api_docs/python/tf/keras) for text classification. Transfer learning makes it possible to save training resources and to achieve good model generalization even when training on a small dataset. In this project, we will demonstrate this by training with several different TF-Hub modules."
   ]
  },
  {
   "cell_type": "markdown",
   "metadata": {
    "id": "cNNs4oBDoSf-"
   },
   "source": [
    "### Learning Objectives"
   ]
  },
  {
   "cell_type": "markdown",
   "metadata": {
    "id": "MyoqkQFsoUzB"
   },
   "source": [
    "By the time you complete this project, you will be able to:\n",
    "\n",
    "- Use various pre-trained NLP text embedding models from TensorFlow Hub\n",
    "- Perform transfer learning to fine-tune models on your own text data\n",
    "- Visualize model performance metrics with [TensorBoard](https://www.tensorflow.org/tensorboard)"
   ]
  },
  {
   "cell_type": "markdown",
   "metadata": {
    "id": "n_BTLVEapAm0"
   },
   "source": [
    "### Prerequisites"
   ]
  },
  {
   "cell_type": "markdown",
   "metadata": {
    "id": "-MAL1ZXnpCiF"
   },
   "source": [
    "In order to be successful with this project, it is assumed you are:\n",
    "\n",
    "- Competent in the Python programming language\n",
    "- Familiar with deep learning for Natural Language Processing (NLP)\n",
    "- Familiar with TensorFlow, and its Keras API"
   ]
  },
  {
   "cell_type": "markdown",
   "metadata": {
    "id": "5d14nw7gpEth"
   },
   "source": [
    "### Contents"
   ]
  },
  {
   "cell_type": "markdown",
   "metadata": {
    "id": "zGRlcriNpJGO"
   },
   "source": [
    "This project/notebook consists of several Tasks.\n",
    "\n",
    "- **[Task 1]()**: Introduction to the Project.\n",
    "- **[Task 2]()**: Setup your TensorFlow and Colab Runtime\n",
    "- **[Task 3]()**: Download and Import the Quora Insincere Questions Dataset\n",
    "- **[Task 4]()**: TensorFlow Hub for Natural Language Processing\n",
    "- **[Task 5]()**: Define Function to Build and Compile Models\n",
    "- **[Task 6]()**: Define Function to Build and Compile Models(Continued...)\n",
    "- **[Task 7]()**: Train Various Text Classification Models\n",
    "- **[Task 8]()**: Compare Accuracy and Loss Curves\n",
    "- **[Task 9]()**: Fine-tuning Models from TF Hub\n",
    "- **[Task 10]()**: Train Bigger Models and Visualize Metrics with TensorBoard"
   ]
  },
  {
   "cell_type": "markdown",
   "metadata": {
    "id": "kAxib00jpYbS"
   },
   "source": [
    "## Task 2: Setup your TensorFlow and Colab Runtime."
   ]
  },
  {
   "cell_type": "markdown",
   "metadata": {
    "id": "GIPs2VnspY9l"
   },
   "source": [
    "You will only be able to use the Colab Notebook after you save it to your Google Drive folder. Click on the File menu and select “Save a copy in Drive…\n",
    "\n",
    "![Copy to Drive](https://drive.google.com/uc?id=1CH3eDmuJL8WR0AP1r3UE6sOPuqq8_Wl7)\n"
   ]
  },
  {
   "cell_type": "markdown",
   "metadata": {
    "id": "wcz2wdA_pez8"
   },
   "source": [
    "### Check GPU Availability\n",
    "\n",
    "Check if your Colab notebook is configured to use Graphical Processing Units (GPUs). If zero GPUs are available, check if the Colab notebook is configured to use GPUs (Menu > Runtime > Change Runtime Type).\n",
    "\n",
    "![Hardware Accelerator Settings](https://drive.google.com/uc?id=1qrihuuMtvzXJHiRV8M7RngbxFYipXKQx)\n"
   ]
  },
  {
   "cell_type": "code",
   "execution_count": 92,
   "metadata": {
    "colab": {
     "base_uri": "https://localhost:8080/"
    },
    "id": "PwWXcwno4wB9",
    "outputId": "9995567e-e576-4fe9-f309-99bb4e53a0ec"
   },
   "outputs": [
    {
     "name": "stdout",
     "output_type": "stream",
     "text": [
      "Tue Jun 29 20:36:05 2021       \n",
      "+-----------------------------------------------------------------------------+\n",
      "| NVIDIA-SMI 465.27       Driver Version: 460.32.03    CUDA Version: 11.2     |\n",
      "|-------------------------------+----------------------+----------------------+\n",
      "| GPU  Name        Persistence-M| Bus-Id        Disp.A | Volatile Uncorr. ECC |\n",
      "| Fan  Temp  Perf  Pwr:Usage/Cap|         Memory-Usage | GPU-Util  Compute M. |\n",
      "|                               |                      |               MIG M. |\n",
      "|===============================+======================+======================|\n",
      "|   0  Tesla T4            Off  | 00000000:00:04.0 Off |                    0 |\n",
      "| N/A   59C    P0    27W /  70W |   4494MiB / 15109MiB |      0%      Default |\n",
      "|                               |                      |                  N/A |\n",
      "+-------------------------------+----------------------+----------------------+\n",
      "                                                                               \n",
      "+-----------------------------------------------------------------------------+\n",
      "| Processes:                                                                  |\n",
      "|  GPU   GI   CI        PID   Type   Process name                  GPU Memory |\n",
      "|        ID   ID                                                   Usage      |\n",
      "|=============================================================================|\n",
      "+-----------------------------------------------------------------------------+\n"
     ]
    }
   ],
   "source": [
    "!nvidia-smi"
   ]
  },
  {
   "cell_type": "code",
   "execution_count": 93,
   "metadata": {
    "colab": {
     "base_uri": "https://localhost:8080/"
    },
    "id": "YxB26qlms3qE",
    "outputId": "3d863e11-5c49-41dc-e23f-e36431d15a38"
   },
   "outputs": [
    {
     "name": "stdout",
     "output_type": "stream",
     "text": [
      "  Building wheel for tensorflow-docs (setup.py) ... \u001b[?25l\u001b[?25hdone\n",
      "Version:  2.5.0\n",
      "Hub version:  0.12.0\n",
      "GPU is available\n"
     ]
    }
   ],
   "source": [
    "import numpy as np\n",
    "import pandas as pd\n",
    "\n",
    "import tensorflow as tf\n",
    "import tensorflow_hub as hub\n",
    "import tensorflow_datasets as tfds\n",
    "\n",
    "import matplotlib.pyplot as plt\n",
    "plt.rcParams['figure.figsize'] = (12, 8)\n",
    "from  IPython import display\n",
    "\n",
    "import pathlib\n",
    "import shutil\n",
    "import tempfile\n",
    "\n",
    "!pip install -q git+https://github.com/tensorflow/docs\n",
    "\n",
    "import tensorflow_docs as tfdocs\n",
    "import tensorflow_docs.modeling\n",
    "import tensorflow_docs.plots\n",
    "\n",
    "print(\"Version: \", tf.__version__)\n",
    "print(\"Hub version: \", hub.__version__)\n",
    "print(\"GPU is\", \"available\" if tf.config.list_physical_devices('GPU') else \"NOT AVAILABLE\")\n",
    "\n",
    "logdir = pathlib.Path(tempfile.mkdtemp())/\"tensorboard_logs\"\n",
    "shutil.rmtree(logdir, ignore_errors=True)"
   ]
  },
  {
   "cell_type": "markdown",
   "metadata": {
    "id": "J6qe4NYUp0vU"
   },
   "source": [
    "## Task 3: Download and Import the Quora Insincere Questions Dataset"
   ]
  },
  {
   "cell_type": "markdown",
   "metadata": {
    "id": "dnRK0VlaDChm"
   },
   "source": [
    "A downloadable copy of the [Quora Insincere Questions Classification data](https://www.kaggle.com/c/quora-insincere-questions-classification/data) can be found [https://archive.org/download/fine-tune-bert-tensorflow-train.csv/train.csv.zip](https://archive.org/download/fine-tune-bert-tensorflow-train.csv/train.csv.zip). Decompress and read the data into a pandas DataFrame."
   ]
  },
  {
   "cell_type": "code",
   "execution_count": 94,
   "metadata": {
    "colab": {
     "base_uri": "https://localhost:8080/"
    },
    "id": "hfF56xcgs8Eb",
    "outputId": "bcfa6daf-28de-4210-c8c4-a7628dab5d44"
   },
   "outputs": [
    {
     "data": {
      "text/plain": [
       "(1306122, 3)"
      ]
     },
     "execution_count": 94,
     "metadata": {
      "tags": []
     },
     "output_type": "execute_result"
    }
   ],
   "source": [
    "df = pd.read_csv('https://archive.org/download/fine-tune-bert-tensorflow-train.csv/train.csv.zip', compression='zip', low_memory=False)\n",
    "df.shape"
   ]
  },
  {
   "cell_type": "code",
   "execution_count": 95,
   "metadata": {
    "colab": {
     "base_uri": "https://localhost:8080/"
    },
    "id": "08kiCrj5tzcj",
    "outputId": "aedb92f6-3024-4840-a1ae-0f259c52ff3f"
   },
   "outputs": [
    {
     "data": {
      "text/plain": [
       "((12930, 3), (13061, 3))"
      ]
     },
     "execution_count": 95,
     "metadata": {
      "tags": []
     },
     "output_type": "execute_result"
    }
   ],
   "source": [
    "from sklearn.model_selection import train_test_split\n",
    "valid_df, remaining = train_test_split(df, random_state=42, train_size=0.01, stratify=df.target.values)\n",
    "train_df, remaining = train_test_split(remaining, random_state=42, train_size=0.01, stratify=remaining.target.values)\n",
    "train_df.shape, valid_df.shape"
   ]
  },
  {
   "cell_type": "code",
   "execution_count": 96,
   "metadata": {
    "colab": {
     "base_uri": "https://localhost:8080/"
    },
    "id": "VfWdbhfYs8Ha",
    "outputId": "86b2befb-8358-4475-a61a-e808ce42fcbf"
   },
   "outputs": [
    {
     "data": {
      "text/plain": [
       "array([0, 0, 0, 0, 0, 0, 0, 0, 0, 0, 0, 0, 0, 0, 0])"
      ]
     },
     "execution_count": 96,
     "metadata": {
      "tags": []
     },
     "output_type": "execute_result"
    }
   ],
   "source": [
    "train_df.target.head(15).values"
   ]
  },
  {
   "cell_type": "code",
   "execution_count": 97,
   "metadata": {
    "colab": {
     "base_uri": "https://localhost:8080/"
    },
    "id": "VX1UEsALs8J8",
    "outputId": "2a85c031-334b-4388-a823-ee5bd9e4daa9"
   },
   "outputs": [
    {
     "data": {
      "text/plain": [
       "array(['Will anything surprising happen in episode IX, considering Rey has so far faced no consequences for her actions, Ben is not going to redeem himself, and Finn and Rose have the thickest plot armor in existence?',\n",
       "       'Do you get flagged in an application process if you apply to multiple positions at the same company?',\n",
       "       'Which is the good shuttle badminton racquet for beginner?',\n",
       "       'Is natural topography an obstacle or an opportunity?',\n",
       "       'Is the TV series Race to the Edge noncanon to the films of HTTYD?',\n",
       "       'Do the people who oppose Narendra Modi want Rahul Gandhi as the Prime Minister of India?',\n",
       "       'Do you think Arsene Wenger is subjected to a bit more criticism than other managers for a similar level of performance? If so, why do you think so?',\n",
       "       'Can you tell the difference between love and like?',\n",
       "       'How do you think the gun problem in the US can be solved?',\n",
       "       \"What are the things we can't sacrifice to do good things?\",\n",
       "       'Why does Vision seem very weak in the early scene (and towards the end) of Infinity War?',\n",
       "       'How can I make timelapse in Snapchat?',\n",
       "       'When in your life did you feel bored?',\n",
       "       'How do characters change throughout the novel \"Fludd\" by Hilary Mantel?',\n",
       "       'What is banana parliament?'], dtype=object)"
      ]
     },
     "execution_count": 97,
     "metadata": {
      "tags": []
     },
     "output_type": "execute_result"
    }
   ],
   "source": [
    "train_df.question_text.head(15).values"
   ]
  },
  {
   "cell_type": "code",
   "execution_count": 50,
   "metadata": {
    "id": "G_E6VWNTs8Mn"
   },
   "outputs": [],
   "source": []
  },
  {
   "cell_type": "markdown",
   "metadata": {
    "id": "Hu6lFucLp4Bn"
   },
   "source": [
    "## Task 4: TensorFlow Hub for Natural Language Processing"
   ]
  },
  {
   "cell_type": "code",
   "execution_count": 50,
   "metadata": {
    "id": "LOCY2xIfMwrc"
   },
   "outputs": [],
   "source": []
  },
  {
   "cell_type": "markdown",
   "metadata": {
    "id": "2dDjc3ypg1uh"
   },
   "source": [
    "Our text data consits of questions and corresponding labels.\n",
    "\n",
    "You can think of a question vector as a distributed representation of a question, and is computed for every question in the training set. The question vector along with the output label is then used to train the statistical classification model. \n",
    "\n",
    "The intuition is that the question vector captures the semantics of the question and, as a result, can be effectively used for classification. \n",
    "\n",
    "To obtain question vectors, we have two alternatives that have been used for several text classification problems in NLP: \n",
    "* word-based representations and \n",
    "* context-based representations"
   ]
  },
  {
   "cell_type": "markdown",
   "metadata": {
    "id": "PKLfQ-LAhdQZ"
   },
   "source": [
    "#### Word-based Representations\n",
    "\n",
    "- A **word-based representation** of a question combines word embeddings of the content words in the question. We can use the average of the word embeddings of content words in the question. Average of word embeddings have been used for different NLP tasks.\n",
    "- Examples of pre-trained embeddings include:\n",
    "  - **Word2Vec**: These are pre-trained embeddings of words learned from a large text corpora. Word2Vec has been pre-trained on a corpus of news articles with  300 million tokens, resulting in 300-dimensional vectors.\n",
    "  - **GloVe**: has been pre-trained on a corpus of tweets with 27 billion tokens, resulting in 200-dimensional vectors.\n"
   ]
  },
  {
   "cell_type": "markdown",
   "metadata": {
    "id": "EoHvyDd7i7Hx"
   },
   "source": [
    "#### Context-based Representations\n",
    "\n",
    "- **Context-based representations** may use language models to generate vectors of sentences. So, instead of learning vectors for individual words in the sentence, they compute a vector for sentences on the whole, by taking into account the order of words and the set of co-occurring words.\n",
    "- Examples of deep contextualised vectors include:\n",
    "  - **Embeddings from Language Models (ELMo)**: uses character-based word representations and bidirectional LSTMs. The pre-trained model computes a contextualised vector of 1024 dimensions. ELMo is available on Tensorflow Hub.\n",
    "  - **Universal Sentence Encoder (USE)**: The encoder uses a Transformer  architecture that uses attention mechanism to incorporate information about the order and the collection of words. The pre-trained model of USE that returns a vector of 512 dimensions is also available on Tensorflow Hub.\n",
    "  - **Neural-Net Language Model (NNLM)**: The model simultaneously learns representations of words and probability functions for word sequences, allowing it to capture semantics of a sentence. We will use a  pretrained  models available on Tensorflow Hub, that are trained on the English Google News 200B corpus, and computes a vector of 128 dimensions for the larger model and 50 dimensions for the smaller model.\n"
   ]
  },
  {
   "cell_type": "markdown",
   "metadata": {
    "id": "3ZrM-BpDrxUG"
   },
   "source": [
    "Tensorflow Hub provides a number of [modules](https://tfhub.dev/s?module-type=text-embedding&tf-version=tf2&q=tf2) to convert sentences into embeddings such as Universal sentence ecoders, NNLM, BERT and Wikiwords."
   ]
  },
  {
   "cell_type": "markdown",
   "metadata": {
    "id": "8TOn7rWN4BW-"
   },
   "source": [
    "Transfer learning makes it possible to save training resources and to achieve good model generalization even when training on a small dataset. In this project, we will demonstrate this by training with several different TF-Hub modules."
   ]
  },
  {
   "cell_type": "code",
   "execution_count": 51,
   "metadata": {
    "id": "ePW3i1zos8PP"
   },
   "outputs": [],
   "source": [
    "module_url = \"https://tfhub.dev/google/tf2-preview/gnews-swivel-20dim/1\" #@param [\"https://tfhub.dev/google/tf2-preview/gnews-swivel-20dim/1\", \"https://tfhub.dev/google/tf2-preview/nnlm-en-dim50/1\", \"https://tfhub.dev/google/tf2-preview/nnlm-en-dim128/1\", \"https://tfhub.dev/google/universal-sentence-encoder/4\", \"https://tfhub.dev/google/universal-sentence-encoder-large/5\"] {allow-input: true}"
   ]
  },
  {
   "cell_type": "markdown",
   "metadata": {
    "id": "bTTELVrtqPwW"
   },
   "source": [
    "## Tasks 5 & 6: Define Function to Build and Compile Models"
   ]
  },
  {
   "cell_type": "code",
   "execution_count": 98,
   "metadata": {
    "id": "B6di0eiFs8ch"
   },
   "outputs": [],
   "source": [
    "def train_and_evaluate_model(module_url, embed_size, name, trainable=False):\n",
    "  hub_layer = hub.KerasLayer(module_url, input_shape=[], output_shape=[embed_size], dtype=tf.string, trainable=trainable)\n",
    "  model = tf.keras.models.Sequential([\n",
    "        hub_layer,\n",
    "        tf.keras.layers.Dense(256, activation='relu'),\n",
    "        tf.keras.layers.Dense(64, activation='relu'),  \n",
    "        tf.keras.layers.Dense(1, activation='sigmoid'),                               \n",
    "  ])\n",
    "  model.compile(optimizer = tf.keras.optimizers.Adam(learning_rate=0.001),\n",
    "                loss=tf.losses.BinaryCrossentropy(),\n",
    "                metrics=[tf.metrics.BinaryAccuracy(name='accuracy')])\n",
    "  model.summary()\n",
    "  history = model.fit(train_df['question_text'], train_df['target'],\n",
    "                      epochs=100,\n",
    "                      batch_size=32,\n",
    "                      validation_data=(valid_df['question_text'], valid_df['target']),\n",
    "                      callbacks=[tfdocs.modeling.EpochDots(),\n",
    "                                 tf.keras.callbacks.EarlyStopping(monitor='val_loss', patience=2, mode='min'),\n",
    "                                 tf.keras.callbacks.TensorBoard(logdir/name)],\n",
    "                      verbose=0)\n",
    "  return history\n"
   ]
  },
  {
   "cell_type": "markdown",
   "metadata": {
    "id": "51YeToW1qpdi"
   },
   "source": [
    "## Task 7: Train Various Text Classification Models"
   ]
  },
  {
   "cell_type": "markdown",
   "metadata": {
    "id": "wRmuj1-RZ-7C"
   },
   "source": []
  },
  {
   "cell_type": "code",
   "execution_count": 99,
   "metadata": {
    "id": "JmKhdRH1SsXG"
   },
   "outputs": [],
   "source": [
    "histories = {}"
   ]
  },
  {
   "cell_type": "code",
   "execution_count": 100,
   "metadata": {
    "id": "GWfWIypew-lk"
   },
   "outputs": [],
   "source": [
    "module_url = \"https://tfhub.dev/google/universal-sentence-encoder-large/5\" #@param [\"https://tfhub.dev/google/tf2-preview/gnews-swivel-20dim/1\", \"https://tfhub.dev/google/tf2-preview/nnlm-en-dim50/1\", \"https://tfhub.dev/google/tf2-preview/nnlm-en-dim128/1\", \"https://tfhub.dev/google/universal-sentence-encoder/4\", \"https://tfhub.dev/google/universal-sentence-encoder-large/5\"] {allow-input: true}"
   ]
  },
  {
   "cell_type": "code",
   "execution_count": 101,
   "metadata": {
    "colab": {
     "base_uri": "https://localhost:8080/"
    },
    "id": "OnQk1xyPTve8",
    "outputId": "f10f7a92-eca0-4b18-bcf8-3dd863f4da2a"
   },
   "outputs": [
    {
     "name": "stdout",
     "output_type": "stream",
     "text": [
      "Model: \"sequential_19\"\n",
      "_________________________________________________________________\n",
      "Layer (type)                 Output Shape              Param #   \n",
      "=================================================================\n",
      "keras_layer_19 (KerasLayer)  (None, 512)               147354880 \n",
      "_________________________________________________________________\n",
      "dense_57 (Dense)             (None, 256)               131328    \n",
      "_________________________________________________________________\n",
      "dense_58 (Dense)             (None, 64)                16448     \n",
      "_________________________________________________________________\n",
      "dense_59 (Dense)             (None, 1)                 65        \n",
      "=================================================================\n",
      "Total params: 147,502,721\n",
      "Trainable params: 147,841\n",
      "Non-trainable params: 147,354,880\n",
      "_________________________________________________________________\n",
      "WARNING:tensorflow:Callback method `on_train_batch_end` is slow compared to the batch time (batch time: 0.0556s vs `on_train_batch_end` time: 0.7396s). Check your callbacks.\n"
     ]
    },
    {
     "name": "stderr",
     "output_type": "stream",
     "text": [
      "WARNING:tensorflow:Callback method `on_train_batch_end` is slow compared to the batch time (batch time: 0.0556s vs `on_train_batch_end` time: 0.7396s). Check your callbacks.\n"
     ]
    },
    {
     "name": "stdout",
     "output_type": "stream",
     "text": [
      "\n",
      "Epoch: 0, accuracy:0.9464,  loss:0.1450,  val_accuracy:0.9564,  val_loss:0.1115,  \n",
      "..."
     ]
    }
   ],
   "source": [
    "histories['universal-sentence-encoder-large'] = train_and_evaluate_model(module_url, embed_size=512, name = 'universal-sentence-encoder-large', trainable=False)"
   ]
  },
  {
   "cell_type": "markdown",
   "metadata": {
    "id": "BJSxiRusq6CY"
   },
   "source": [
    "## Task 8: Compare Accuracy and Loss Curves"
   ]
  },
  {
   "cell_type": "code",
   "execution_count": 102,
   "metadata": {
    "colab": {
     "base_uri": "https://localhost:8080/",
     "height": 513
    },
    "id": "taqgWQRHTfKq",
    "outputId": "299c45e5-89a3-4fcb-e9d6-23adc4c4fe35"
   },
   "outputs": [
    {
     "data": {
      "image/png": "[encoded data removed]",
      "text/plain": [
       "<Figure size 864x576 with 1 Axes>"
      ]
     },
     "metadata": {
      "needs_background": "light",
      "tags": []
     },
     "output_type": "display_data"
    }
   ],
   "source": [
    "plt.rcParams['figure.figsize'] = (12, 8)\n",
    "plotter = tfdocs.plots.HistoryPlotter(metric = 'accuracy')\n",
    "plotter.plot(histories)\n",
    "plt.xlabel(\"Epochs\")\n",
    "plt.legend(bbox_to_anchor=(1.0, 1.0), loc='upper left')\n",
    "plt.title(\"Accuracy Curves for Models\")\n",
    "plt.show()"
   ]
  },
  {
   "cell_type": "code",
   "execution_count": 103,
   "metadata": {
    "colab": {
     "base_uri": "https://localhost:8080/",
     "height": 513
    },
    "id": "cPxhmeAib7XP",
    "outputId": "a5e95e47-f7d1-4577-dff5-61d7cebbee1c"
   },
   "outputs": [
    {
     "data": {
      "image/png": "[encoded data removed]",
      "text/plain": [
       "<Figure size 864x576 with 1 Axes>"
      ]
     },
     "metadata": {
      "needs_background": "light",
      "tags": []
     },
     "output_type": "display_data"
    }
   ],
   "source": [
    "plotter = tfdocs.plots.HistoryPlotter(metric = 'loss')\n",
    "plotter.plot(histories)\n",
    "plt.xlabel(\"Epochs\")\n",
    "plt.legend(bbox_to_anchor=(1.0, 1.0), loc='upper left')\n",
    "plt.title(\"Loss Curves for Models\")\n",
    "plt.show()"
   ]
  },
  {
   "cell_type": "markdown",
   "metadata": {
    "id": "54bNF4m-w08D"
   },
   "source": [
    "## Task 9: Fine-tune Model from TF Hub"
   ]
  },
  {
   "cell_type": "markdown",
   "metadata": {
    "id": "TxNN-MzorJ9V"
   },
   "source": [
    "## Task 10: Train Bigger Models and Visualize Metrics with TensorBoard"
   ]
  },
  {
   "cell_type": "code",
   "execution_count": 105,
   "metadata": {
    "colab": {
     "base_uri": "https://localhost:8080/",
     "height": 872
    },
    "id": "lG6fv6Mis8xd",
    "outputId": "7d1f0bc9-4aee-4527-f39b-566be03781af"
   },
   "outputs": [
    {
     "name": "stdout",
     "output_type": "stream",
     "text": [
      "The tensorboard extension is already loaded. To reload it, use:\n",
      "  %reload_ext tensorboard\n"
     ]
    },
    {
     "data": {
      "text/plain": [
       "Reusing TensorBoard on port 6007 (pid 1800), started 0:01:22 ago. (Use '!kill 1800' to kill it.)"
      ]
     },
     "metadata": {
      "tags": []
     },
     "output_type": "display_data"
    },
    {
     "data": {
      "application/javascript": [
       "\n",
       "        (async () => {\n",
       "            const url = new URL(await google.colab.kernel.proxyPort(6007, {'cache': true}));\n",
       "            url.searchParams.set('tensorboardColab', 'true');\n",
       "            const iframe = document.createElement('iframe');\n",
       "            iframe.src = url;\n",
       "            iframe.setAttribute('width', '100%');\n",
       "            iframe.setAttribute('height', '800');\n",
       "            iframe.setAttribute('frameborder', 0);\n",
       "            document.body.appendChild(iframe);\n",
       "        })();\n",
       "    "
      ],
      "text/plain": [
       "<IPython.core.display.Javascript object>"
      ]
     },
     "metadata": {
      "tags": []
     },
     "output_type": "display_data"
    }
   ],
   "source": [
    "%load_ext tensorboard\n",
    "%tensorboard --logdir {logdir}\n",
    "%reload_ext tensorboard"
   ]
  },
  {
   "cell_type": "code",
   "execution_count": null,
   "metadata": {
    "id": "4_Rwudlms80h"
   },
   "outputs": [],
   "source": []
  },
  {
   "cell_type": "code",
   "execution_count": null,
   "metadata": {
    "id": "TFxWfePns83c"
   },
   "outputs": [],
   "source": []
  },
  {
   "cell_type": "code",
   "execution_count": null,
   "metadata": {
    "id": "TsM0ZMt3s86C"
   },
   "outputs": [],
   "source": []
  },
  {
   "cell_type": "code",
   "execution_count": null,
   "metadata": {
    "id": "MRO6Wkt4s889"
   },
   "outputs": [],
   "source": []
  },
  {
   "cell_type": "code",
   "execution_count": null,
   "metadata": {
    "id": "jVdlhv3Ls8_6"
   },
   "outputs": [],
   "source": []
  },
  {
   "cell_type": "code",
   "execution_count": null,
   "metadata": {
    "id": "7WavvT6vs9C3"
   },
   "outputs": [],
   "source": []
  },
  {
   "cell_type": "code",
   "execution_count": null,
   "metadata": {
    "id": "DdL4FWe_s9Fj"
   },
   "outputs": [],
   "source": []
  },
  {
   "cell_type": "code",
   "execution_count": null,
   "metadata": {
    "id": "7D9jHDdzs9IJ"
   },
   "outputs": [],
   "source": []
  }
 ],
 "metadata": {
  "accelerator": "GPU",
  "colab": {
   "collapsed_sections": [],
   "include_colab_link": true,
   "name": "Transfer-Learning-NLP-TF-Hub.ipynb",
   "provenance": []
  },
  "kernelspec": {
   "display_name": "Python 3",
   "language": "python",
   "name": "python3"
  },
  "language_info": {
   "codemirror_mode": {
    "name": "ipython",
    "version": 3
   },
   "file_extension": ".py",
   "mimetype": "text/x-python",
   "name": "python",
   "nbconvert_exporter": "python",
   "pygments_lexer": "ipython3",
   "version": "3.8.8"
  }
 },
 "nbformat": 4,
 "nbformat_minor": 1
}
